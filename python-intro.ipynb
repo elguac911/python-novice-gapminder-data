{
  "cells": [
    {
      "cell_type": "code",
      "source": [
        "age = 25\n",
        "name = \"Joaquin\"\n",
        "last_name = \"Lopez_Rosales\""
      ],
      "metadata": {
        "id": "OmiakCtUH4F4"
      },
      "execution_count": null,
      "outputs": []
    }
  ],
  "metadata": {
    "colab": {
      "provenance": []
    },
    "language_info": {
      "name": "python"
    },
    "kernelspec": {
      "name": "python3",
      "display_name": "Python 3"
    }
  },
  "nbformat": 4,
  "nbformat_minor": 0
}